{
 "cells": [
  {
   "cell_type": "markdown",
   "source": [
    "# Developing an AI application\n",
    "\n",
    "Going forward, AI algorithms will be incorporated into more and more everyday applications. For example, you might want to include an image classifier in a smart phone app. To do this, you'd use a deep learning model trained on hundreds of thousands of images as part of the overall application architecture. A large part of software development in the future will be using these types of models as common parts of applications. \n",
    "\n",
    "In this project, you'll train an image classifier to recognize different species of flowers. You can imagine using something like this in a phone app that tells you the name of the flower your camera is looking at. In practice you'd train this classifier, then export it for use in your application. We'll be using [this dataset](http://www.robots.ox.ac.uk/~vgg/data/flowers/102/index.html) of 102 flower categories, you can see a few examples below. \n",
    "\n",
    "<img src='assets/Flowers.png' width=500px>\n",
    "\n",
    "The project is broken down into multiple steps:\n",
    "\n",
    "* Load and preprocess the image dataset\n",
    "* Train the image classifier on your dataset\n",
    "* Use the trained classifier to predict image content\n",
    "\n",
    "We'll lead you through each part which you'll implement in Python.\n",
    "\n",
    "When you've completed this project, you'll have an application that can be trained on any set of labeled images. Here your network will be learning about flowers and end up as a command line application. But, what you do with your new skills depends on your imagination and effort in building a dataset. For example, imagine an app where you take a picture of a car, it tells you what the make and model is, then looks up information about it. Go build your own dataset and make something new.\n",
    "\n",
    "First up is importing the packages you'll need. It's good practice to keep all the imports at the beginning of your code. As you work through this notebook and find you need to import a package, make sure to add the import up here."
   ],
   "metadata": {}
  },
  {
   "cell_type": "code",
   "execution_count": 1,
   "source": [
    "# Imports here\n",
    "%config InlineBackend.figure_format = 'retina'\n",
    "\n",
    "import matplotlib.pyplot as plt\n",
    "\n",
    "import torch \n",
    "from torch import nn, optim \n",
    "import torch.nn.functional as F\n",
    "from torchvision import datasets, transforms, models "
   ],
   "outputs": [],
   "metadata": {}
  },
  {
   "cell_type": "markdown",
   "source": [
    "## Load the data\n",
    "\n",
    "Here you'll use `torchvision` to load the data ([documentation](http://pytorch.org/docs/0.3.0/torchvision/index.html)). The data should be included alongside this notebook, otherwise you can [download it here](https://s3.amazonaws.com/content.udacity-data.com/nd089/flower_data.tar.gz). The dataset is split into three parts, training, validation, and testing. For the training, you'll want to apply transformations such as random scaling, cropping, and flipping. This will help the network generalize leading to better performance. You'll also need to make sure the input data is resized to 224x224 pixels as required by the pre-trained networks.\n",
    "\n",
    "The validation and testing sets are used to measure the model's performance on data it hasn't seen yet. For this you don't want any scaling or rotation transformations, but you'll need to resize then crop the images to the appropriate size.\n",
    "\n",
    "The pre-trained networks you'll use were trained on the ImageNet dataset where each color channel was normalized separately. For all three sets you'll need to normalize the means and standard deviations of the images to what the network expects. For the means, it's `[0.485, 0.456, 0.406]` and for the standard deviations `[0.229, 0.224, 0.225]`, calculated from the ImageNet images.  These values will shift each color channel to be centered at 0 and range from -1 to 1.\n",
    " "
   ],
   "metadata": {}
  },
  {
   "cell_type": "code",
   "execution_count": 2,
   "source": [
    "data_dir = 'flowers'\n",
    "train_dir = data_dir + '/train'\n",
    "valid_dir = data_dir + '/valid'\n",
    "test_dir = data_dir + '/test'"
   ],
   "outputs": [],
   "metadata": {}
  },
  {
   "cell_type": "code",
   "execution_count": 3,
   "source": [
    "# TODO: Define your transforms for the training, validation, and testing sets\n",
    "train_transforms = transforms.Compose([transforms.RandomRotation(30),\n",
    "                                     transforms.RandomResizedCrop(224),\n",
    "                                     transforms.RandomHorizontalFlip(),\n",
    "                                     transforms.ToTensor(),\n",
    "                                     transforms.Normalize([0.485, 0.456, 0.406],\n",
    "                                                        [0.229, 0.224, 0.225])])\n",
    "\n",
    "valid_transforms = transforms.Compose([transforms.Resize(255),\n",
    "                                      transforms.CenterCrop(224),\n",
    "                                      transforms.ToTensor(),\n",
    "                                      transforms.Normalize([0.485, 0.456, 0.406],\n",
    "                                                           [0.229, 0.224, 0.225])])\n",
    "\n",
    "test_transforms = transforms.Compose([transforms.Resize(255),\n",
    "                                      transforms.CenterCrop(224),\n",
    "                                      transforms.ToTensor(),\n",
    "                                      transforms.Normalize([0.485, 0.456, 0.406],\n",
    "                                                           [0.229, 0.224, 0.225])])\n",
    "# TODO: Load the datasets with ImageFolder\n",
    "train_datasets = datasets.ImageFolder(train_dir, transform=train_transforms)\n",
    "valid_datasets = datasets.ImageFolder(valid_dir, transform=valid_transforms)\n",
    "test_datasets = datasets.ImageFolder(test_dir, transform=test_transforms)\n",
    "\n",
    "# TODO: Using the image datasets and the trainforms, define the dataloaders\n",
    "trainloaders = torch.utils.data.DataLoader(train_datasets, batch_size=64, shuffle=True)\n",
    "validloaders = torch.utils.data.DataLoader(valid_datasets, batch_size=64, shuffle=True)\n",
    "testloaders = torch.utils.data.DataLoader(test_datasets, batch_size=64)"
   ],
   "outputs": [],
   "metadata": {}
  },
  {
   "cell_type": "markdown",
   "source": [
    "### Label mapping\n",
    "\n",
    "You'll also need to load in a mapping from category label to category name. You can find this in the file `cat_to_name.json`. It's a JSON object which you can read in with the [`json` module](https://docs.python.org/2/library/json.html). This will give you a dictionary mapping the integer encoded categories to the actual names of the flowers."
   ],
   "metadata": {}
  },
  {
   "cell_type": "code",
   "execution_count": 4,
   "source": [
    "import json\n",
    "\n",
    "with open('cat_to_name.json', 'r') as f:\n",
    "    cat_to_name = json.load(f)"
   ],
   "outputs": [],
   "metadata": {}
  },
  {
   "cell_type": "markdown",
   "source": [
    "# Building and training the classifier\n",
    "\n",
    "Now that the data is ready, it's time to build and train the classifier. As usual, you should use one of the pretrained models from `torchvision.models` to get the image features. Build and train a new feed-forward classifier using those features.\n",
    "\n",
    "We're going to leave this part up to you. Refer to [the rubric](https://review.udacity.com/#!/rubrics/1663/view) for guidance on successfully completing this section. Things you'll need to do:\n",
    "\n",
    "* Load a [pre-trained network](http://pytorch.org/docs/master/torchvision/models.html) (If you need a starting point, the VGG networks work great and are straightforward to use)\n",
    "* Define a new, untrained feed-forward network as a classifier, using ReLU activations and dropout\n",
    "* Train the classifier layers using backpropagation using the pre-trained network to get the features\n",
    "* Track the loss and accuracy on the validation set to determine the best hyperparameters\n",
    "\n",
    "We've left a cell open for you below, but use as many as you need. Our advice is to break the problem up into smaller parts you can run separately. Check that each part is doing what you expect, then move on to the next. You'll likely find that as you work through each part, you'll need to go back and modify your previous code. This is totally normal!\n",
    "\n",
    "When training make sure you're updating only the weights of the feed-forward network. You should be able to get the validation accuracy above 70% if you build everything right. Make sure to try different hyperparameters (learning rate, units in the classifier, epochs, etc) to find the best model. Save those hyperparameters to use as default values in the next part of the project.\n",
    "\n",
    "One last important tip if you're using the workspace to run your code: To avoid having your workspace disconnect during the long-running tasks in this notebook, please read in the earlier page in this lesson called Intro to\n",
    "GPU Workspaces about Keeping Your Session Active. You'll want to include code from the workspace_utils.py module.\n",
    "\n",
    "<font color='red'>**Note for Workspace users:** If your network is over 1 GB when saved as a checkpoint, there might be issues with saving backups in your workspace. Typically this happens with wide dense layers after the convolutional layers. If your saved checkpoint is larger than 1 GB (you can open a terminal and check with `ls -lh`), you should reduce the size of your hidden layers and train again.</font>"
   ],
   "metadata": {}
  },
  {
   "cell_type": "code",
   "execution_count": 5,
   "source": [
    "# TODO: Build and train your network\n",
    "model = models.vgg16(pretrained=True)\n",
    "model.classifier"
   ],
   "outputs": [
    {
     "output_type": "stream",
     "name": "stderr",
     "text": [
      "Downloading: \"https://download.pytorch.org/models/vgg16-397923af.pth\" to /root/.torch/models/vgg16-397923af.pth\n",
      "100%|██████████| 553433881/553433881 [00:05<00:00, 106325787.97it/s]\n"
     ]
    },
    {
     "output_type": "execute_result",
     "data": {
      "text/plain": [
       "Sequential(\n",
       "  (0): Linear(in_features=25088, out_features=4096, bias=True)\n",
       "  (1): ReLU(inplace)\n",
       "  (2): Dropout(p=0.5)\n",
       "  (3): Linear(in_features=4096, out_features=4096, bias=True)\n",
       "  (4): ReLU(inplace)\n",
       "  (5): Dropout(p=0.5)\n",
       "  (6): Linear(in_features=4096, out_features=1000, bias=True)\n",
       ")"
      ]
     },
     "metadata": {},
     "execution_count": 5
    }
   ],
   "metadata": {}
  },
  {
   "cell_type": "code",
   "execution_count": 6,
   "source": [
    "# Use GPU if it's available\n",
    "device = torch.device(\"cuda\" if torch.cuda.is_available() else \"cpu\")\n",
    "\n",
    "# Freeze parameters so we don't backprop through them\n",
    "for param in model.parameters():\n",
    "    param.requires_grad = False\n",
    "    \n",
    "model.classifier = nn.Sequential(nn.Linear(25088, 4096),\n",
    "                                 nn.ReLU(),\n",
    "                                 nn.Dropout(0.5),\n",
    "                                 nn.Linear(4096, 512),\n",
    "                                 nn.ReLU(),\n",
    "                                 nn.Dropout(0.5),\n",
    "                                 nn.Linear(512, 104),\n",
    "                                 nn.LogSoftmax(dim=1))\n",
    "\n",
    "criterion = nn.NLLLoss()\n",
    "\n",
    "# Only train the classifier parameters, feature parameters are frozen\n",
    "optimizer = optim.Adam(model.classifier.parameters(), lr=0.0003)\n",
    "\n",
    "model.to(device);"
   ],
   "outputs": [],
   "metadata": {}
  },
  {
   "cell_type": "code",
   "execution_count": 8,
   "source": [
    "epochs = 3\n",
    "steps = 0\n",
    "running_loss = 0\n",
    "print_every = 5\n",
    "train_losses, test_losses = [], []\n",
    "from workspace_utils import active_session\n",
    "\n",
    "with active_session():\n",
    "    # do long-running work here\n",
    "    for epoch in range(epochs):\n",
    "        for inputs, labels in trainloaders:\n",
    "            steps += 1\n",
    "#             print(labels.shape)\n",
    "            # Move input and label tensors to the default device\n",
    "            inputs, labels = inputs.to(device), labels.to(device)\n",
    "\n",
    "            optimizer.zero_grad()\n",
    "\n",
    "            logps = model.forward(inputs)\n",
    "            loss = criterion(logps, labels)\n",
    "            loss.backward()\n",
    "            optimizer.step()\n",
    "\n",
    "            running_loss += loss.item()\n",
    "\n",
    "            if steps % print_every == 0:\n",
    "                test_loss = 0\n",
    "                accuracy = 0\n",
    "                model.eval()\n",
    "                with torch.no_grad():\n",
    "                    for inputs, labels in validloaders:\n",
    "                        inputs, labels = inputs.to(device), labels.to(device)\n",
    "                        logps = model.forward(inputs)\n",
    "                        batch_loss = criterion(logps, labels)\n",
    "\n",
    "                        test_loss += batch_loss.item()\n",
    "\n",
    "                        # Calculate accuracy\n",
    "                        ps = torch.exp(logps)\n",
    "                        top_p, top_class = ps.topk(1, dim=1)\n",
    "                        equals = top_class == labels.view(*top_class.shape)\n",
    "                        accuracy += torch.mean(equals.type(torch.FloatTensor)).item()\n",
    "                        \n",
    "                train_losses.append(running_loss/len(trainloaders))\n",
    "                test_losses.append(test_loss/len(validloaders)) \n",
    "                \n",
    "                print(f\"Epoch {epoch+1}/{epochs}.. \"\n",
    "                      f\"Train loss: {running_loss/print_every:.3f}.. \"\n",
    "                      f\"Validation loss: {test_loss/len(validloaders):.3f}.. \"\n",
    "                      f\"Validation accuracy: {accuracy/len(validloaders):.3f}\")\n",
    "                running_loss = 0\n",
    "                model.train()"
   ],
   "outputs": [
    {
     "output_type": "stream",
     "name": "stdout",
     "text": [
      "Epoch 1/3.. Train loss: 4.288.. Validation loss: 4.239.. Validation accuracy: 0.112\n",
      "Epoch 1/3.. Train loss: 4.489.. Validation loss: 3.914.. Validation accuracy: 0.201\n",
      "Epoch 1/3.. Train loss: 4.283.. Validation loss: 3.764.. Validation accuracy: 0.200\n",
      "Epoch 1/3.. Train loss: 4.033.. Validation loss: 3.606.. Validation accuracy: 0.174\n",
      "Epoch 1/3.. Train loss: 3.853.. Validation loss: 3.373.. Validation accuracy: 0.280\n",
      "Epoch 1/3.. Train loss: 4.000.. Validation loss: 3.188.. Validation accuracy: 0.342\n",
      "Epoch 1/3.. Train loss: 3.596.. Validation loss: 3.032.. Validation accuracy: 0.338\n",
      "Epoch 1/3.. Train loss: 3.549.. Validation loss: 2.821.. Validation accuracy: 0.394\n",
      "Epoch 1/3.. Train loss: 3.685.. Validation loss: 2.708.. Validation accuracy: 0.446\n",
      "Epoch 1/3.. Train loss: 3.276.. Validation loss: 2.554.. Validation accuracy: 0.451\n",
      "Epoch 1/3.. Train loss: 3.228.. Validation loss: 2.424.. Validation accuracy: 0.443\n",
      "Epoch 1/3.. Train loss: 3.082.. Validation loss: 2.237.. Validation accuracy: 0.490\n",
      "Epoch 1/3.. Train loss: 3.043.. Validation loss: 2.151.. Validation accuracy: 0.510\n",
      "Epoch 1/3.. Train loss: 2.902.. Validation loss: 1.996.. Validation accuracy: 0.535\n",
      "Epoch 1/3.. Train loss: 2.796.. Validation loss: 1.951.. Validation accuracy: 0.553\n",
      "Epoch 1/3.. Train loss: 2.889.. Validation loss: 1.856.. Validation accuracy: 0.585\n",
      "Epoch 1/3.. Train loss: 2.684.. Validation loss: 1.794.. Validation accuracy: 0.555\n",
      "Epoch 1/3.. Train loss: 2.511.. Validation loss: 1.748.. Validation accuracy: 0.564\n",
      "Epoch 1/3.. Train loss: 2.678.. Validation loss: 1.639.. Validation accuracy: 0.603\n",
      "Epoch 1/3.. Train loss: 2.591.. Validation loss: 1.517.. Validation accuracy: 0.662\n",
      "Epoch 2/3.. Train loss: 2.460.. Validation loss: 1.517.. Validation accuracy: 0.624\n",
      "Epoch 2/3.. Train loss: 2.403.. Validation loss: 1.490.. Validation accuracy: 0.644\n",
      "Epoch 2/3.. Train loss: 2.312.. Validation loss: 1.458.. Validation accuracy: 0.640\n",
      "Epoch 2/3.. Train loss: 2.256.. Validation loss: 1.313.. Validation accuracy: 0.674\n",
      "Epoch 2/3.. Train loss: 2.122.. Validation loss: 1.245.. Validation accuracy: 0.685\n",
      "Epoch 2/3.. Train loss: 1.965.. Validation loss: 1.194.. Validation accuracy: 0.730\n",
      "Epoch 2/3.. Train loss: 2.094.. Validation loss: 1.171.. Validation accuracy: 0.723\n",
      "Epoch 2/3.. Train loss: 2.086.. Validation loss: 1.104.. Validation accuracy: 0.711\n",
      "Epoch 2/3.. Train loss: 1.978.. Validation loss: 1.092.. Validation accuracy: 0.730\n",
      "Epoch 2/3.. Train loss: 1.971.. Validation loss: 1.092.. Validation accuracy: 0.722\n",
      "Epoch 2/3.. Train loss: 2.026.. Validation loss: 1.043.. Validation accuracy: 0.752\n",
      "Epoch 2/3.. Train loss: 1.885.. Validation loss: 1.031.. Validation accuracy: 0.758\n",
      "Epoch 2/3.. Train loss: 1.868.. Validation loss: 1.004.. Validation accuracy: 0.757\n",
      "Epoch 2/3.. Train loss: 1.893.. Validation loss: 0.992.. Validation accuracy: 0.735\n",
      "Epoch 2/3.. Train loss: 1.762.. Validation loss: 0.965.. Validation accuracy: 0.761\n",
      "Epoch 2/3.. Train loss: 1.960.. Validation loss: 0.964.. Validation accuracy: 0.757\n",
      "Epoch 2/3.. Train loss: 1.926.. Validation loss: 0.930.. Validation accuracy: 0.794\n",
      "Epoch 2/3.. Train loss: 1.924.. Validation loss: 0.877.. Validation accuracy: 0.795\n",
      "Epoch 2/3.. Train loss: 1.808.. Validation loss: 0.908.. Validation accuracy: 0.774\n",
      "Epoch 2/3.. Train loss: 1.815.. Validation loss: 0.920.. Validation accuracy: 0.764\n",
      "Epoch 2/3.. Train loss: 1.693.. Validation loss: 0.901.. Validation accuracy: 0.766\n",
      "Epoch 3/3.. Train loss: 1.873.. Validation loss: 0.835.. Validation accuracy: 0.800\n",
      "Epoch 3/3.. Train loss: 1.611.. Validation loss: 0.747.. Validation accuracy: 0.816\n",
      "Epoch 3/3.. Train loss: 1.562.. Validation loss: 0.777.. Validation accuracy: 0.812\n",
      "Epoch 3/3.. Train loss: 1.693.. Validation loss: 0.754.. Validation accuracy: 0.820\n",
      "Epoch 3/3.. Train loss: 1.545.. Validation loss: 0.719.. Validation accuracy: 0.830\n",
      "Epoch 3/3.. Train loss: 1.543.. Validation loss: 0.740.. Validation accuracy: 0.809\n",
      "Epoch 3/3.. Train loss: 1.585.. Validation loss: 0.755.. Validation accuracy: 0.800\n",
      "Epoch 3/3.. Train loss: 1.554.. Validation loss: 0.724.. Validation accuracy: 0.814\n",
      "Epoch 3/3.. Train loss: 1.542.. Validation loss: 0.734.. Validation accuracy: 0.832\n",
      "Epoch 3/3.. Train loss: 1.626.. Validation loss: 0.719.. Validation accuracy: 0.821\n",
      "Epoch 3/3.. Train loss: 1.466.. Validation loss: 0.714.. Validation accuracy: 0.819\n",
      "Epoch 3/3.. Train loss: 1.493.. Validation loss: 0.724.. Validation accuracy: 0.815\n",
      "Epoch 3/3.. Train loss: 1.412.. Validation loss: 0.701.. Validation accuracy: 0.826\n",
      "Epoch 3/3.. Train loss: 1.509.. Validation loss: 0.665.. Validation accuracy: 0.830\n",
      "Epoch 3/3.. Train loss: 1.477.. Validation loss: 0.615.. Validation accuracy: 0.843\n",
      "Epoch 3/3.. Train loss: 1.567.. Validation loss: 0.638.. Validation accuracy: 0.842\n",
      "Epoch 3/3.. Train loss: 1.500.. Validation loss: 0.628.. Validation accuracy: 0.849\n",
      "Epoch 3/3.. Train loss: 1.402.. Validation loss: 0.641.. Validation accuracy: 0.836\n",
      "Epoch 3/3.. Train loss: 1.383.. Validation loss: 0.661.. Validation accuracy: 0.823\n",
      "Epoch 3/3.. Train loss: 1.398.. Validation loss: 0.615.. Validation accuracy: 0.857\n"
     ]
    }
   ],
   "metadata": {}
  },
  {
   "cell_type": "code",
   "execution_count": 9,
   "source": [
    "plt.plot(train_losses, label='Training loss')\n",
    "plt.plot(test_losses, label='Validation loss')\n",
    "plt.legend(frameon=False)\n",
    "plt.show()"
   ],
   "outputs": [
    {
     "output_type": "display_data",
     "data": {
      "image/png": "[encoded data removed]",
      "text/plain": [
       "<matplotlib.figure.Figure at 0x7f603becbeb8>"
      ]
     },
     "metadata": {
      "image/png": {
       "height": 250,
       "width": 364
      },
      "needs_background": "light"
     }
    }
   ],
   "metadata": {}
  },
  {
   "cell_type": "markdown",
   "source": [
    "## Testing your network\n",
    "\n",
    "It's good practice to test your trained network on test data, images the network has never seen either in training or validation. This will give you a good estimate for the model's performance on completely new images. Run the test images through the network and measure the accuracy, the same way you did validation. You should be able to reach around 70% accuracy on the test set if the model has been trained well."
   ],
   "metadata": {}
  },
  {
   "cell_type": "code",
   "execution_count": 11,
   "source": [
    "# TODO: Do validation on the test set \n",
    "epochs = 1\n",
    "steps = 0\n",
    "testing_loss = 0\n",
    "test_accuracy = 0\n",
    "for epoch in range(epochs):\n",
    "    with torch.no_grad():\n",
    "        for inputs, labels in testloaders:\n",
    "            inputs, labels = inputs.to(device), labels.to(device)\n",
    "            logps = model.forward(inputs)\n",
    "            batch_loss = criterion(logps, labels)\n",
    "\n",
    "            testing_loss += batch_loss.item()\n",
    "\n",
    "            # Calculate accuracy\n",
    "            ps = torch.exp(logps)\n",
    "            top_p, top_class = ps.topk(1, dim=1)\n",
    "            equals = top_class == labels.view(*top_class.shape)\n",
    "            test_accuracy += torch.mean(equals.type(torch.FloatTensor)).item()\n",
    "\n",
    "    print(f\"Epoch {epoch+1}/{epochs}.. \"\n",
    "          f\"Testing loss: {testing_loss/len(testloaders):.3f}.. \"\n",
    "          f\"Testing accuracy: {test_accuracy/len(testloaders):.3f}\")\n",
    "    running_loss = 0\n",
    "    model.train()"
   ],
   "outputs": [
    {
     "output_type": "stream",
     "name": "stdout",
     "text": [
      "Epoch 1/1.. Testing loss: 1.131.. Testing accuracy: 0.680\n"
     ]
    }
   ],
   "metadata": {}
  },
  {
   "cell_type": "markdown",
   "source": [
    "## Save the checkpoint\n",
    "\n",
    "Now that your network is trained, save the model so you can load it later for making predictions. You probably want to save other things such as the mapping of classes to indices which you get from one of the image datasets: `image_datasets['train'].class_to_idx`. You can attach this to the model as an attribute which makes inference easier later on.\n",
    "\n",
    "```model.class_to_idx = image_datasets['train'].class_to_idx```\n",
    "\n",
    "Remember that you'll want to completely rebuild the model later so you can use it for inference. Make sure to include any information you need in the checkpoint. If you want to load the model and keep training, you'll want to save the number of epochs as well as the optimizer state, `optimizer.state_dict`. You'll likely want to use this trained model in the next part of the project, so best to save it now."
   ],
   "metadata": {}
  },
  {
   "cell_type": "code",
   "execution_count": 12,
   "source": [
    "# TODO: Save the checkpoint \n",
    "model.class_to_idx = train_datasets.class_to_idx\n",
    "torch.save(model.state_dict(), \"customcheckpoint.pth\")"
   ],
   "outputs": [],
   "metadata": {}
  },
  {
   "cell_type": "markdown",
   "source": [
    "## Loading the checkpoint\n",
    "\n",
    "At this point it's good to write a function that can load a checkpoint and rebuild the model. That way you can come back to this project and keep working on it without having to retrain the network."
   ],
   "metadata": {}
  },
  {
   "cell_type": "code",
   "execution_count": 13,
   "source": [
    "# TODO: Write a function that loads a checkpoint and rebuilds the model\n",
    "def load_checkpoint(filepath):\n",
    "    checkpoint = torch.load(filepath)\n",
    "    model = model.load_state_dict(checkpoint)\n",
    "    return model"
   ],
   "outputs": [],
   "metadata": {}
  },
  {
   "cell_type": "markdown",
   "source": [
    "# Inference for classification\n",
    "\n",
    "Now you'll write a function to use a trained network for inference. That is, you'll pass an image into the network and predict the class of the flower in the image. Write a function called `predict` that takes an image and a model, then returns the top $K$ most likely classes along with the probabilities. It should look like \n",
    "\n",
    "```python\n",
    "probs, classes = predict(image_path, model)\n",
    "print(probs)\n",
    "print(classes)\n",
    "> [ 0.01558163  0.01541934  0.01452626  0.01443549  0.01407339]\n",
    "> ['70', '3', '45', '62', '55']\n",
    "```\n",
    "\n",
    "First you'll need to handle processing the input image such that it can be used in your network. \n",
    "\n",
    "## Image Preprocessing\n",
    "\n",
    "You'll want to use `PIL` to load the image ([documentation](https://pillow.readthedocs.io/en/latest/reference/Image.html)). It's best to write a function that preprocesses the image so it can be used as input for the model. This function should process the images in the same manner used for training. \n",
    "\n",
    "First, resize the images where the shortest side is 256 pixels, keeping the aspect ratio. This can be done with the [`thumbnail`](http://pillow.readthedocs.io/en/3.1.x/reference/Image.html#PIL.Image.Image.thumbnail) or [`resize`](http://pillow.readthedocs.io/en/3.1.x/reference/Image.html#PIL.Image.Image.thumbnail) methods. Then you'll need to crop out the center 224x224 portion of the image.\n",
    "\n",
    "Color channels of images are typically encoded as integers 0-255, but the model expected floats 0-1. You'll need to convert the values. It's easiest with a Numpy array, which you can get from a PIL image like so `np_image = np.array(pil_image)`.\n",
    "\n",
    "As before, the network expects the images to be normalized in a specific way. For the means, it's `[0.485, 0.456, 0.406]` and for the standard deviations `[0.229, 0.224, 0.225]`. You'll want to subtract the means from each color channel, then divide by the standard deviation. \n",
    "\n",
    "And finally, PyTorch expects the color channel to be the first dimension but it's the third dimension in the PIL image and Numpy array. You can reorder dimensions using [`ndarray.transpose`](https://docs.scipy.org/doc/numpy-1.13.0/reference/generated/numpy.ndarray.transpose.html). The color channel needs to be first and retain the order of the other two dimensions."
   ],
   "metadata": {}
  },
  {
   "cell_type": "code",
   "execution_count": 5,
   "source": [
    "import PIL\r\n",
    "from PIL import Image\r\n",
    "def process_image(image):\r\n",
    "    ''' Scales, crops, and normalizes a PIL image for a PyTorch model,\r\n",
    "        returns an Numpy array\r\n",
    "    '''\r\n",
    "    # TODO: Process a PIL image for use in a PyTorch model\r\n",
    "    imag = Image.open(image)\r\n",
    "    wpercent = (256/float(min(imag.size)))\r\n",
    "    hsize = int((float(imag.size[1])*float(wpercent)))\r\n",
    "    img = imag.resize((256,hsize), PIL.Image.ANTIALIAS)\r\n",
    "    print(img.size)\r\n",
    "    \r\n",
    "    # crop image\r\n",
    "    width, height = img.size\r\n",
    "    left = (width - 224)/2\r\n",
    "    top = (height - 224)/2\r\n",
    "    right = (width + 224)/2\r\n",
    "    bottom = (height + 224)/2\r\n",
    "    cropped_img = img.crop((left, top, right, bottom))\r\n",
    "    np_image = np.array(cropped_img)/ 255.0\r\n",
    "    \r\n",
    "    norm_means = np.array([0.485, 0.456, 0.406])\r\n",
    "    norm_std = np.array([0.229, 0.224, 0.225])\r\n",
    "    print(np_image.shape)\r\n",
    "    \r\n",
    "    np_image = (img - np.mean(np_image)) / np.std(np_image)\r\n",
    "    \r\n",
    "    final_img = np_image.transpose((1,2,0))\r\n",
    "    \r\n",
    "\r\n",
    "    return torch.tensor(final_img)"
   ],
   "outputs": [],
   "metadata": {}
  },
  {
   "cell_type": "code",
   "execution_count": 8,
   "source": [
    "import numpy as np\r\n",
    "img_process = process_image(\"assets/Flowers.png\")\r\n",
    "# print(\"Minimum: \".format(img_process.shape))\r\n",
    "imshow(img_process)"
   ],
   "outputs": [
    {
     "output_type": "stream",
     "name": "stdout",
     "text": [
      "(256, 256)\n",
      "(224, 224, 4)\n"
     ]
    },
    {
     "output_type": "error",
     "ename": "ValueError",
     "evalue": "operands could not be broadcast together with shapes (3,) (4,256,256) ",
     "traceback": [
      "\u001b[0;31m---------------------------------------------------------------------------\u001b[0m",
      "\u001b[0;31mValueError\u001b[0m                                Traceback (most recent call last)",
      "\u001b[0;32m<ipython-input-8-ac13e476305a>\u001b[0m in \u001b[0;36m<module>\u001b[0;34m()\u001b[0m\n\u001b[1;32m      2\u001b[0m \u001b[0mimg_process\u001b[0m \u001b[0;34m=\u001b[0m \u001b[0mprocess_image\u001b[0m\u001b[0;34m(\u001b[0m\u001b[0;34m\"assets/Flowers.png\"\u001b[0m\u001b[0;34m)\u001b[0m\u001b[0;34m\u001b[0m\u001b[0m\n\u001b[1;32m      3\u001b[0m \u001b[0;31m# print(\"Minimum: \".format(img_process.shape))\u001b[0m\u001b[0;34m\u001b[0m\u001b[0;34m\u001b[0m\u001b[0m\n\u001b[0;32m----> 4\u001b[0;31m \u001b[0mimshow\u001b[0m\u001b[0;34m(\u001b[0m\u001b[0mimg_process\u001b[0m\u001b[0;34m)\u001b[0m\u001b[0;34m\u001b[0m\u001b[0m\n\u001b[0m",
      "\u001b[0;32m<ipython-input-7-5ec573231c5e>\u001b[0m in \u001b[0;36mimshow\u001b[0;34m(image, ax, title)\u001b[0m\n\u001b[1;32m     11\u001b[0m     \u001b[0mmean\u001b[0m \u001b[0;34m=\u001b[0m \u001b[0mnp\u001b[0m\u001b[0;34m.\u001b[0m\u001b[0marray\u001b[0m\u001b[0;34m(\u001b[0m\u001b[0;34m[\u001b[0m\u001b[0;36m0.485\u001b[0m\u001b[0;34m,\u001b[0m \u001b[0;36m0.456\u001b[0m\u001b[0;34m,\u001b[0m \u001b[0;36m0.406\u001b[0m\u001b[0;34m]\u001b[0m\u001b[0;34m)\u001b[0m\u001b[0;34m\u001b[0m\u001b[0m\n\u001b[1;32m     12\u001b[0m     \u001b[0mstd\u001b[0m \u001b[0;34m=\u001b[0m \u001b[0mnp\u001b[0m\u001b[0;34m.\u001b[0m\u001b[0marray\u001b[0m\u001b[0;34m(\u001b[0m\u001b[0;34m[\u001b[0m\u001b[0;36m0.229\u001b[0m\u001b[0;34m,\u001b[0m \u001b[0;36m0.224\u001b[0m\u001b[0;34m,\u001b[0m \u001b[0;36m0.225\u001b[0m\u001b[0;34m]\u001b[0m\u001b[0;34m)\u001b[0m\u001b[0;34m\u001b[0m\u001b[0m\n\u001b[0;32m---> 13\u001b[0;31m     \u001b[0mimage\u001b[0m \u001b[0;34m=\u001b[0m \u001b[0mstd\u001b[0m \u001b[0;34m*\u001b[0m \u001b[0mimage\u001b[0m\u001b[0;34m\u001b[0m\u001b[0m\n\u001b[0m\u001b[1;32m     14\u001b[0m \u001b[0;34m\u001b[0m\u001b[0m\n\u001b[1;32m     15\u001b[0m     \u001b[0;31m# Image needs to be clipped between 0 and 1 or it looks like noise when displayed\u001b[0m\u001b[0;34m\u001b[0m\u001b[0;34m\u001b[0m\u001b[0m\n",
      "\u001b[0;31mValueError\u001b[0m: operands could not be broadcast together with shapes (3,) (4,256,256) "
     ]
    },
    {
     "output_type": "display_data",
     "data": {
      "image/png": "[encoded data removed]",
      "text/plain": [
       "<matplotlib.figure.Figure at 0x7efec067f630>"
      ]
     },
     "metadata": {
      "image/png": {
       "height": 252,
       "width": 380
      },
      "needs_background": "light"
     }
    }
   ],
   "metadata": {}
  },
  {
   "cell_type": "markdown",
   "source": [
    "To check your work, the function below converts a PyTorch tensor and displays it in the notebook. If your `process_image` function works, running the output through this function should return the original image (except for the cropped out portions)."
   ],
   "metadata": {}
  },
  {
   "cell_type": "code",
   "execution_count": 7,
   "source": [
    "def imshow(image, ax=None, title=None):\r\n",
    "    \"\"\"Imshow for Tensor.\"\"\"\r\n",
    "    if ax is None:\r\n",
    "        fig, ax = plt.subplots()\r\n",
    "    \r\n",
    "    # PyTorch tensors assume the color channel is the first dimension\r\n",
    "    # but matplotlib assumes is the third dimension\r\n",
    "    image = image.numpy().transpose((1, 2, 0))\r\n",
    "    \r\n",
    "    # Undo preprocessing\r\n",
    "    mean = np.array([0.485, 0.456, 0.406])\r\n",
    "    std = np.array([0.229, 0.224, 0.225])\r\n",
    "    image = std * image + mean\r\n",
    "    \r\n",
    "    # Image needs to be clipped between 0 and 1 or it looks like noise when displayed\r\n",
    "    image = np.clip(image, 0, 1)\r\n",
    "    \r\n",
    "    ax.imshow(image)\r\n",
    "    \r\n",
    "    return ax"
   ],
   "outputs": [],
   "metadata": {}
  },
  {
   "cell_type": "code",
   "execution_count": 70,
   "source": [
    "torch.__version__"
   ],
   "outputs": [
    {
     "output_type": "execute_result",
     "data": {
      "text/plain": [
       "'0.4.0'"
      ]
     },
     "metadata": {},
     "execution_count": 70
    }
   ],
   "metadata": {}
  },
  {
   "cell_type": "markdown",
   "source": [
    "## Class Prediction\n",
    "\n",
    "Once you can get images in the correct format, it's time to write a function for making predictions with your model. A common practice is to predict the top 5 or so (usually called top-$K$) most probable classes. You'll want to calculate the class probabilities then find the $K$ largest values.\n",
    "\n",
    "To get the top $K$ largest values in a tensor use [`x.topk(k)`](http://pytorch.org/docs/master/torch.html#torch.topk). This method returns both the highest `k` probabilities and the indices of those probabilities corresponding to the classes. You need to convert from these indices to the actual class labels using `class_to_idx` which hopefully you added to the model or from an `ImageFolder` you used to load the data ([see here](#Save-the-checkpoint)). Make sure to invert the dictionary so you get a mapping from index to class as well.\n",
    "\n",
    "Again, this method should take a path to an image and a model checkpoint, then return the probabilities and classes.\n",
    "\n",
    "```python\n",
    "probs, classes = predict(image_path, model)\n",
    "print(probs)\n",
    "print(classes)\n",
    "> [ 0.01558163  0.01541934  0.01452626  0.01443549  0.01407339]\n",
    "> ['70', '3', '45', '62', '55']\n",
    "```"
   ],
   "metadata": {}
  },
  {
   "cell_type": "code",
   "execution_count": null,
   "source": [
    "def predict(image_path, model, topk=5):\n",
    "    ''' Predict the class (or classes) of an image using a trained deep learning model.\n",
    "    '''\n",
    "    \n",
    "    # TODO: Implement the code to predict the class from an image file\n",
    "    \n",
    "    return probs, classes"
   ],
   "outputs": [],
   "metadata": {}
  },
  {
   "cell_type": "markdown",
   "source": [
    "## Sanity Checking\n",
    "\n",
    "Now that you can use a trained model for predictions, check to make sure it makes sense. Even if the testing accuracy is high, it's always good to check that there aren't obvious bugs. Use `matplotlib` to plot the probabilities for the top 5 classes as a bar graph, along with the input image. It should look like this:\n",
    "\n",
    "<img src='assets/inference_example.png' width=300px>\n",
    "\n",
    "You can convert from the class integer encoding to actual flower names with the `cat_to_name.json` file (should have been loaded earlier in the notebook). To show a PyTorch tensor as an image, use the `imshow` function defined above."
   ],
   "metadata": {}
  },
  {
   "cell_type": "code",
   "execution_count": null,
   "source": [
    "# TODO: Display an image along with the top 5 classes"
   ],
   "outputs": [],
   "metadata": {}
  },
  {
   "cell_type": "code",
   "execution_count": null,
   "source": [],
   "outputs": [],
   "metadata": {}
  },
  {
   "cell_type": "markdown",
   "source": [
    "<font color='red'>**Reminder for Workspace users:** If your network becomes very large when saved as a checkpoint, there might be issues with saving backups in your workspace. You should reduce the size of your hidden layers and train again. \n",
    "    \n",
    "We strongly encourage you to delete these large interim files and directories before navigating to another page or closing the browser tab.</font>"
   ],
   "metadata": {}
  },
  {
   "cell_type": "code",
   "execution_count": 2,
   "source": [
    "# TODO remove .pth files or move it to a temporary `~/opt` directory in this Workspace"
   ],
   "outputs": [],
   "metadata": {}
  },
  {
   "cell_type": "code",
   "execution_count": null,
   "source": [],
   "outputs": [],
   "metadata": {}
  }
 ],
 "metadata": {
  "kernelspec": {
   "display_name": "Python 3",
   "language": "python",
   "name": "python3"
  },
  "language_info": {
   "codemirror_mode": {
    "name": "ipython",
    "version": 3
   },
   "file_extension": ".py",
   "mimetype": "text/x-python",
   "name": "python",
   "nbconvert_exporter": "python",
   "pygments_lexer": "ipython3",
   "version": "3.6.3"
  }
 },
 "nbformat": 4,
 "nbformat_minor": 2
}