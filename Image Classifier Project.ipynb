{
 "cells": [
  {
   "cell_type": "markdown",
   "source": [
    "# Developing an AI application\n",
    "\n",
    "Going forward, AI algorithms will be incorporated into more and more everyday applications. For example, you might want to include an image classifier in a smart phone app. To do this, you'd use a deep learning model trained on hundreds of thousands of images as part of the overall application architecture. A large part of software development in the future will be using these types of models as common parts of applications. \n",
    "\n",
    "In this project, you'll train an image classifier to recognize different species of flowers. You can imagine using something like this in a phone app that tells you the name of the flower your camera is looking at. In practice you'd train this classifier, then export it for use in your application. We'll be using [this dataset](http://www.robots.ox.ac.uk/~vgg/data/flowers/102/index.html) of 102 flower categories, you can see a few examples below. \n",
    "\n",
    "<img src='assets/Flowers.png' width=500px>\n",
    "\n",
    "The project is broken down into multiple steps:\n",
    "\n",
    "* Load and preprocess the image dataset\n",
    "* Train the image classifier on your dataset\n",
    "* Use the trained classifier to predict image content\n",
    "\n",
    "We'll lead you through each part which you'll implement in Python.\n",
    "\n",
    "When you've completed this project, you'll have an application that can be trained on any set of labeled images. Here your network will be learning about flowers and end up as a command line application. But, what you do with your new skills depends on your imagination and effort in building a dataset. For example, imagine an app where you take a picture of a car, it tells you what the make and model is, then looks up information about it. Go build your own dataset and make something new.\n",
    "\n",
    "First up is importing the packages you'll need. It's good practice to keep all the imports at the beginning of your code. As you work through this notebook and find you need to import a package, make sure to add the import up here."
   ],
   "metadata": {}
  },
  {
   "cell_type": "code",
   "execution_count": 1,
   "source": [
    "# Imports here\r\n",
    "%config InlineBackend.figure_format = 'retina'\r\n",
    "\r\n",
    "import matplotlib.pyplot as plt\r\n",
    "\r\n",
    "import torch \r\n",
    "from torch import nn, optim \r\n",
    "import torch.nn.functional as F\r\n",
    "from torchvision import datasets, transforms, models \r\n"
   ],
   "outputs": [],
   "metadata": {}
  },
  {
   "cell_type": "markdown",
   "source": [
    "## Load the data\n",
    "\n",
    "Here you'll use `torchvision` to load the data ([documentation](http://pytorch.org/docs/0.3.0/torchvision/index.html)). The data should be included alongside this notebook, otherwise you can [download it here](https://s3.amazonaws.com/content.udacity-data.com/nd089/flower_data.tar.gz). The dataset is split into three parts, training, validation, and testing. For the training, you'll want to apply transformations such as random scaling, cropping, and flipping. This will help the network generalize leading to better performance. You'll also need to make sure the input data is resized to 224x224 pixels as required by the pre-trained networks.\n",
    "\n",
    "The validation and testing sets are used to measure the model's performance on data it hasn't seen yet. For this you don't want any scaling or rotation transformations, but you'll need to resize then crop the images to the appropriate size.\n",
    "\n",
    "The pre-trained networks you'll use were trained on the ImageNet dataset where each color channel was normalized separately. For all three sets you'll need to normalize the means and standard deviations of the images to what the network expects. For the means, it's `[0.485, 0.456, 0.406]` and for the standard deviations `[0.229, 0.224, 0.225]`, calculated from the ImageNet images.  These values will shift each color channel to be centered at 0 and range from -1 to 1.\n",
    " "
   ],
   "metadata": {}
  },
  {
   "cell_type": "code",
   "execution_count": 2,
   "source": [
    "data_dir = 'flowers'\r\n",
    "train_dir = data_dir + '/train'\r\n",
    "valid_dir = data_dir + '/valid'\r\n",
    "test_dir = data_dir + '/test'"
   ],
   "outputs": [],
   "metadata": {}
  },
  {
   "cell_type": "code",
   "execution_count": 3,
   "source": [
    "# TODO: Define your transforms for the training, validation, and testing sets\r\n",
    "train_transforms = transforms.Compose([transforms.RandomRotation(30),\r\n",
    "                                     transforms.RandomResizedCrop(224),\r\n",
    "                                     transforms.RandomHorizontalFlip(),\r\n",
    "                                     transforms.ToTensor(),\r\n",
    "                                     transforms.Normalize([0.485, 0.456, 0.406],\r\n",
    "                                                        [0.229, 0.224, 0.225])])\r\n",
    "\r\n",
    "valid_transforms = transforms.Compose([transforms.Resize(255),\r\n",
    "                                      transforms.CenterCrop(224),\r\n",
    "                                      transforms.ToTensor(),\r\n",
    "                                      transforms.Normalize([0.485, 0.456, 0.406],\r\n",
    "                                                           [0.229, 0.224, 0.225])])\r\n",
    "\r\n",
    "test_transforms = transforms.Compose([transforms.Resize(255),\r\n",
    "                                      transforms.CenterCrop(224),\r\n",
    "                                      transforms.ToTensor(),\r\n",
    "                                      transforms.Normalize([0.485, 0.456, 0.406],\r\n",
    "                                                           [0.229, 0.224, 0.225])])\r\n",
    "# TODO: Load the datasets with ImageFolder\r\n",
    "train_datasets = datasets.ImageFolder(train_dir, transform=train_transforms)\r\n",
    "valid_datasets = datasets.ImageFolder(valid_dir, transform=valid_transforms)\r\n",
    "test_datasets = datasets.ImageFolder(test_dir, transform=test_transforms)\r\n",
    "\r\n",
    "# TODO: Using the image datasets and the trainforms, define the dataloaders\r\n",
    "trainloaders = torch.utils.data.DataLoader(train_datasets, batch_size=64, shuffle=True)\r\n",
    "validloaders = torch.utils.data.DataLoader(valid_datasets, batch_size=64, shuffle=True)\r\n",
    "testloaders = torch.utils.data.DataLoader(test_datasets, batch_size=64)"
   ],
   "outputs": [],
   "metadata": {}
  },
  {
   "cell_type": "markdown",
   "source": [
    "### Label mapping\n",
    "\n",
    "You'll also need to load in a mapping from category label to category name. You can find this in the file `cat_to_name.json`. It's a JSON object which you can read in with the [`json` module](https://docs.python.org/2/library/json.html). This will give you a dictionary mapping the integer encoded categories to the actual names of the flowers."
   ],
   "metadata": {}
  },
  {
   "cell_type": "code",
   "execution_count": 4,
   "source": [
    "import json\r\n",
    "\r\n",
    "with open('cat_to_name.json', 'r') as f:\r\n",
    "    cat_to_name = json.load(f)"
   ],
   "outputs": [],
   "metadata": {}
  },
  {
   "cell_type": "markdown",
   "source": [
    "# Building and training the classifier\n",
    "\n",
    "Now that the data is ready, it's time to build and train the classifier. As usual, you should use one of the pretrained models from `torchvision.models` to get the image features. Build and train a new feed-forward classifier using those features.\n",
    "\n",
    "We're going to leave this part up to you. Refer to [the rubric](https://review.udacity.com/#!/rubrics/1663/view) for guidance on successfully completing this section. Things you'll need to do:\n",
    "\n",
    "* Load a [pre-trained network](http://pytorch.org/docs/master/torchvision/models.html) (If you need a starting point, the VGG networks work great and are straightforward to use)\n",
    "* Define a new, untrained feed-forward network as a classifier, using ReLU activations and dropout\n",
    "* Train the classifier layers using backpropagation using the pre-trained network to get the features\n",
    "* Track the loss and accuracy on the validation set to determine the best hyperparameters\n",
    "\n",
    "We've left a cell open for you below, but use as many as you need. Our advice is to break the problem up into smaller parts you can run separately. Check that each part is doing what you expect, then move on to the next. You'll likely find that as you work through each part, you'll need to go back and modify your previous code. This is totally normal!\n",
    "\n",
    "When training make sure you're updating only the weights of the feed-forward network. You should be able to get the validation accuracy above 70% if you build everything right. Make sure to try different hyperparameters (learning rate, units in the classifier, epochs, etc) to find the best model. Save those hyperparameters to use as default values in the next part of the project.\n",
    "\n",
    "One last important tip if you're using the workspace to run your code: To avoid having your workspace disconnect during the long-running tasks in this notebook, please read in the earlier page in this lesson called Intro to\n",
    "GPU Workspaces about Keeping Your Session Active. You'll want to include code from the workspace_utils.py module.\n",
    "\n",
    "<font color='red'>**Note for Workspace users:** If your network is over 1 GB when saved as a checkpoint, there might be issues with saving backups in your workspace. Typically this happens with wide dense layers after the convolutional layers. If your saved checkpoint is larger than 1 GB (you can open a terminal and check with `ls -lh`), you should reduce the size of your hidden layers and train again.</font>"
   ],
   "metadata": {}
  },
  {
   "cell_type": "code",
   "execution_count": 5,
   "source": [
    "# TODO: Build and train your network\r\n",
    "model = models.vgg16(pretrained=True)\r\n",
    "model.classifier"
   ],
   "outputs": [
    {
     "output_type": "execute_result",
     "data": {
      "text/plain": [
       "Sequential(\n",
       "  (0): Linear(in_features=25088, out_features=4096, bias=True)\n",
       "  (1): ReLU(inplace)\n",
       "  (2): Dropout(p=0.5)\n",
       "  (3): Linear(in_features=4096, out_features=4096, bias=True)\n",
       "  (4): ReLU(inplace)\n",
       "  (5): Dropout(p=0.5)\n",
       "  (6): Linear(in_features=4096, out_features=1000, bias=True)\n",
       ")"
      ]
     },
     "metadata": {},
     "execution_count": 5
    }
   ],
   "metadata": {}
  },
  {
   "cell_type": "code",
   "execution_count": 6,
   "source": [
    "# Use GPU if it's available\r\n",
    "device = torch.device(\"cuda\" if torch.cuda.is_available() else \"cpu\")\r\n",
    "\r\n",
    "# Freeze parameters so we don't backprop through them\r\n",
    "for param in model.parameters():\r\n",
    "    param.requires_grad = False\r\n",
    "    \r\n",
    "model.classifier = nn.Sequential(nn.Linear(25088, 4096),\r\n",
    "                                 nn.ReLU(),\r\n",
    "                                 nn.Dropout(0.5),\r\n",
    "                                 nn.Linear(4096, 512),\r\n",
    "                                 nn.ReLU(),\r\n",
    "                                 nn.Dropout(0.5),\r\n",
    "                                 nn.Linear(512, 104),\r\n",
    "                                 nn.LogSoftmax(dim=1))\r\n",
    "\r\n",
    "criterion = nn.NLLLoss()\r\n",
    "\r\n",
    "# Only train the classifier parameters, feature parameters are frozen\r\n",
    "optimizer = optim.Adam(model.classifier.parameters(), lr=0.0003)\r\n",
    "\r\n",
    "model.to(device);"
   ],
   "outputs": [],
   "metadata": {}
  },
  {
   "cell_type": "code",
   "execution_count": 7,
   "source": [
    "epochs = 3\r\n",
    "steps = 0\r\n",
    "running_loss = 0\r\n",
    "print_every = 5\r\n",
    "from workspace_utils import active_session\r\n",
    "\r\n",
    "with active_session():\r\n",
    "    # do long-running work here\r\n",
    "    for epoch in range(epochs):\r\n",
    "        for inputs, labels in trainloaders:\r\n",
    "            steps += 1\r\n",
    "#             print(labels.shape)\r\n",
    "            # Move input and label tensors to the default device\r\n",
    "            inputs, labels = inputs.to(device), labels.to(device)\r\n",
    "\r\n",
    "            optimizer.zero_grad()\r\n",
    "\r\n",
    "            logps = model.forward(inputs)\r\n",
    "            loss = criterion(logps, labels)\r\n",
    "            loss.backward()\r\n",
    "            optimizer.step()\r\n",
    "\r\n",
    "            running_loss += loss.item()\r\n",
    "\r\n",
    "            if steps % print_every == 0:\r\n",
    "                test_loss = 0\r\n",
    "                accuracy = 0\r\n",
    "                model.eval()\r\n",
    "                with torch.no_grad():\r\n",
    "                    for inputs, labels in validloaders:\r\n",
    "                        inputs, labels = inputs.to(device), labels.to(device)\r\n",
    "                        logps = model.forward(inputs)\r\n",
    "                        batch_loss = criterion(logps, labels)\r\n",
    "\r\n",
    "                        test_loss += batch_loss.item()\r\n",
    "\r\n",
    "                        # Calculate accuracy\r\n",
    "                        ps = torch.exp(logps)\r\n",
    "                        top_p, top_class = ps.topk(1, dim=1)\r\n",
    "                        equals = top_class == labels.view(*top_class.shape)\r\n",
    "                        accuracy += torch.mean(equals.type(torch.FloatTensor)).item()\r\n",
    "\r\n",
    "                print(f\"Epoch {epoch+1}/{epochs}.. \"\r\n",
    "                      f\"Train loss: {running_loss/print_every:.3f}.. \"\r\n",
    "                      f\"Validation loss: {test_loss/len(validloaders):.3f}.. \"\r\n",
    "                      f\"Validation accuracy: {accuracy/len(validloaders):.3f}\")\r\n",
    "                running_loss = 0\r\n",
    "                model.train()"
   ],
   "outputs": [
    {
     "output_type": "stream",
     "name": "stdout",
     "text": [
      "Epoch 1/3.. Train loss: 4.628.. Validation loss: 4.422.. Validation accuracy: 0.040\n",
      "Epoch 1/3.. Train loss: 4.586.. Validation loss: 4.169.. Validation accuracy: 0.128\n",
      "Epoch 1/3.. Train loss: 4.398.. Validation loss: 3.979.. Validation accuracy: 0.163\n",
      "Epoch 1/3.. Train loss: 4.352.. Validation loss: 3.788.. Validation accuracy: 0.226\n",
      "Epoch 1/3.. Train loss: 4.293.. Validation loss: 3.665.. Validation accuracy: 0.212\n",
      "Epoch 1/3.. Train loss: 3.837.. Validation loss: 3.484.. Validation accuracy: 0.228\n",
      "Epoch 1/3.. Train loss: 3.874.. Validation loss: 3.218.. Validation accuracy: 0.301\n",
      "Epoch 1/3.. Train loss: 3.577.. Validation loss: 3.054.. Validation accuracy: 0.317\n",
      "Epoch 1/3.. Train loss: 3.597.. Validation loss: 2.918.. Validation accuracy: 0.337\n",
      "Epoch 1/3.. Train loss: 3.544.. Validation loss: 2.737.. Validation accuracy: 0.414\n",
      "Epoch 1/3.. Train loss: 3.460.. Validation loss: 2.664.. Validation accuracy: 0.420\n",
      "Epoch 1/3.. Train loss: 3.334.. Validation loss: 2.545.. Validation accuracy: 0.421\n",
      "Epoch 1/3.. Train loss: 3.121.. Validation loss: 2.386.. Validation accuracy: 0.457\n",
      "Epoch 1/3.. Train loss: 3.124.. Validation loss: 2.253.. Validation accuracy: 0.480\n",
      "Epoch 1/3.. Train loss: 3.020.. Validation loss: 2.130.. Validation accuracy: 0.511\n",
      "Epoch 1/3.. Train loss: 2.824.. Validation loss: 2.028.. Validation accuracy: 0.525\n",
      "Epoch 1/3.. Train loss: 2.966.. Validation loss: 1.946.. Validation accuracy: 0.529\n",
      "Epoch 1/3.. Train loss: 2.765.. Validation loss: 1.834.. Validation accuracy: 0.556\n",
      "Epoch 1/3.. Train loss: 2.729.. Validation loss: 1.767.. Validation accuracy: 0.592\n",
      "Epoch 1/3.. Train loss: 2.642.. Validation loss: 1.668.. Validation accuracy: 0.602\n",
      "Epoch 2/3.. Train loss: 2.474.. Validation loss: 1.659.. Validation accuracy: 0.585\n",
      "Epoch 2/3.. Train loss: 2.401.. Validation loss: 1.555.. Validation accuracy: 0.607\n",
      "Epoch 2/3.. Train loss: 2.386.. Validation loss: 1.473.. Validation accuracy: 0.654\n",
      "Epoch 2/3.. Train loss: 2.382.. Validation loss: 1.393.. Validation accuracy: 0.671\n",
      "Epoch 2/3.. Train loss: 2.373.. Validation loss: 1.398.. Validation accuracy: 0.664\n",
      "Epoch 2/3.. Train loss: 2.119.. Validation loss: 1.353.. Validation accuracy: 0.682\n",
      "Epoch 2/3.. Train loss: 2.142.. Validation loss: 1.278.. Validation accuracy: 0.698\n",
      "Epoch 2/3.. Train loss: 2.221.. Validation loss: 1.241.. Validation accuracy: 0.694\n",
      "Epoch 2/3.. Train loss: 2.160.. Validation loss: 1.259.. Validation accuracy: 0.696\n",
      "Epoch 2/3.. Train loss: 2.079.. Validation loss: 1.190.. Validation accuracy: 0.711\n",
      "Epoch 2/3.. Train loss: 2.087.. Validation loss: 1.163.. Validation accuracy: 0.698\n",
      "Epoch 2/3.. Train loss: 1.936.. Validation loss: 1.141.. Validation accuracy: 0.705\n",
      "Epoch 2/3.. Train loss: 1.866.. Validation loss: 1.138.. Validation accuracy: 0.707\n",
      "Epoch 2/3.. Train loss: 1.914.. Validation loss: 1.085.. Validation accuracy: 0.732\n",
      "Epoch 2/3.. Train loss: 1.866.. Validation loss: 1.010.. Validation accuracy: 0.750\n",
      "Epoch 2/3.. Train loss: 1.981.. Validation loss: 0.965.. Validation accuracy: 0.739\n",
      "Epoch 2/3.. Train loss: 1.919.. Validation loss: 0.951.. Validation accuracy: 0.753\n",
      "Epoch 2/3.. Train loss: 1.779.. Validation loss: 0.892.. Validation accuracy: 0.777\n",
      "Epoch 2/3.. Train loss: 1.793.. Validation loss: 0.920.. Validation accuracy: 0.781\n",
      "Epoch 2/3.. Train loss: 1.954.. Validation loss: 0.877.. Validation accuracy: 0.782\n",
      "Epoch 2/3.. Train loss: 1.768.. Validation loss: 0.881.. Validation accuracy: 0.787\n",
      "Epoch 3/3.. Train loss: 1.718.. Validation loss: 0.918.. Validation accuracy: 0.756\n",
      "Epoch 3/3.. Train loss: 1.704.. Validation loss: 0.882.. Validation accuracy: 0.774\n",
      "Epoch 3/3.. Train loss: 1.622.. Validation loss: 0.834.. Validation accuracy: 0.789\n",
      "Epoch 3/3.. Train loss: 1.690.. Validation loss: 0.797.. Validation accuracy: 0.796\n",
      "Epoch 3/3.. Train loss: 1.684.. Validation loss: 0.774.. Validation accuracy: 0.799\n",
      "Epoch 3/3.. Train loss: 1.644.. Validation loss: 0.778.. Validation accuracy: 0.786\n",
      "Epoch 3/3.. Train loss: 1.518.. Validation loss: 0.773.. Validation accuracy: 0.801\n",
      "Epoch 3/3.. Train loss: 1.674.. Validation loss: 0.761.. Validation accuracy: 0.795\n",
      "Epoch 3/3.. Train loss: 1.481.. Validation loss: 0.746.. Validation accuracy: 0.810\n",
      "Epoch 3/3.. Train loss: 1.575.. Validation loss: 0.738.. Validation accuracy: 0.829\n",
      "Epoch 3/3.. Train loss: 1.574.. Validation loss: 0.715.. Validation accuracy: 0.825\n",
      "Epoch 3/3.. Train loss: 1.477.. Validation loss: 0.682.. Validation accuracy: 0.835\n",
      "Epoch 3/3.. Train loss: 1.543.. Validation loss: 0.674.. Validation accuracy: 0.824\n",
      "Epoch 3/3.. Train loss: 1.424.. Validation loss: 0.657.. Validation accuracy: 0.829\n",
      "Epoch 3/3.. Train loss: 1.312.. Validation loss: 0.652.. Validation accuracy: 0.838\n",
      "Epoch 3/3.. Train loss: 1.429.. Validation loss: 0.644.. Validation accuracy: 0.834\n",
      "Epoch 3/3.. Train loss: 1.666.. Validation loss: 0.635.. Validation accuracy: 0.844\n",
      "Epoch 3/3.. Train loss: 1.592.. Validation loss: 0.633.. Validation accuracy: 0.842\n",
      "Epoch 3/3.. Train loss: 1.388.. Validation loss: 0.646.. Validation accuracy: 0.840\n",
      "Epoch 3/3.. Train loss: 1.373.. Validation loss: 0.648.. Validation accuracy: 0.824\n"
     ]
    }
   ],
   "metadata": {}
  },
  {
   "cell_type": "markdown",
   "source": [
    "## Testing your network\n",
    "\n",
    "It's good practice to test your trained network on test data, images the network has never seen either in training or validation. This will give you a good estimate for the model's performance on completely new images. Run the test images through the network and measure the accuracy, the same way you did validation. You should be able to reach around 70% accuracy on the test set if the model has been trained well."
   ],
   "metadata": {}
  },
  {
   "cell_type": "code",
   "execution_count": 33,
   "source": [
    "# TODO: Do validation on the test set\r\n",
    "epochs = 1\r\n",
    "steps = 0\r\n",
    "testing_loss = 0\r\n",
    "test_accuracy = 0\r\n",
    "for epoch in range(epochs):\r\n",
    "    with torch.no_grad():\r\n",
    "        for inputs, labels in testloaders:\r\n",
    "            inputs, labels = inputs.to(device), labels.to(device)\r\n",
    "            logps = model.forward(inputs)\r\n",
    "            batch_loss = criterion(logps, labels)\r\n",
    "\r\n",
    "            testing_loss += batch_loss.item()\r\n",
    "\r\n",
    "            # Calculate accuracy\r\n",
    "            ps = torch.exp(logps)\r\n",
    "            top_p, top_class = ps.topk(1, dim=1)\r\n",
    "            equals = top_class == labels.view(*top_class.shape)\r\n",
    "            test_accuracy += torch.mean(equals.type(torch.FloatTensor)).item()\r\n",
    "\r\n",
    "    print(f\"Epoch {epoch+1}/{epochs}.. \"\r\n",
    "          f\"Testing loss: {testing_loss/len(testloaders):.3f}.. \"\r\n",
    "          f\"Testing accuracy: {test_accuracy/len(testloaders):.3f}\")\r\n",
    "    running_loss = 0\r\n",
    "    model.train()"
   ],
   "outputs": [
    {
     "output_type": "stream",
     "name": "stdout",
     "text": [
      "Epoch 1/1.. Testing loss: 0.718.. Testing accuracy: 0.803\n"
     ]
    }
   ],
   "metadata": {}
  },
  {
   "cell_type": "markdown",
   "source": [
    "## Save the checkpoint\n",
    "\n",
    "Now that your network is trained, save the model so you can load it later for making predictions. You probably want to save other things such as the mapping of classes to indices which you get from one of the image datasets: `image_datasets['train'].class_to_idx`. You can attach this to the model as an attribute which makes inference easier later on.\n",
    "\n",
    "```model.class_to_idx = image_datasets['train'].class_to_idx```\n",
    "\n",
    "Remember that you'll want to completely rebuild the model later so you can use it for inference. Make sure to include any information you need in the checkpoint. If you want to load the model and keep training, you'll want to save the number of epochs as well as the optimizer state, `optimizer.state_dict`. You'll likely want to use this trained model in the next part of the project, so best to save it now."
   ],
   "metadata": {}
  },
  {
   "cell_type": "code",
   "execution_count": null,
   "source": [
    "# TODO: Save the checkpoint \r\n",
    "# print(model)"
   ],
   "outputs": [],
   "metadata": {}
  },
  {
   "cell_type": "code",
   "execution_count": 10,
   "source": [
    "model.class_to_idx = train_datasets.class_to_idx\r\n",
    "torch.save(model.state_dict(), \"customcheckpoint.pth\")"
   ],
   "outputs": [],
   "metadata": {}
  },
  {
   "cell_type": "code",
   "execution_count": null,
   "source": [],
   "outputs": [],
   "metadata": {}
  },
  {
   "cell_type": "markdown",
   "source": [
    "## Loading the checkpoint\n",
    "\n",
    "At this point it's good to write a function that can load a checkpoint and rebuild the model. That way you can come back to this project and keep working on it without having to retrain the network."
   ],
   "metadata": {}
  },
  {
   "cell_type": "code",
   "execution_count": 11,
   "source": [
    "# TODO: Write a function that loads a checkpoint and rebuilds the model\r\n",
    "def load_checkpoint(filepath):\r\n",
    "    checkpoint = torch.load(filepath)\r\n",
    "    model = model.load_state_dict(checkpoint)\r\n",
    "    return model"
   ],
   "outputs": [],
   "metadata": {}
  },
  {
   "cell_type": "markdown",
   "source": [
    "# Inference for classification\n",
    "\n",
    "Now you'll write a function to use a trained network for inference. That is, you'll pass an image into the network and predict the class of the flower in the image. Write a function called `predict` that takes an image and a model, then returns the top $K$ most likely classes along with the probabilities. It should look like \n",
    "\n",
    "```python\n",
    "probs, classes = predict(image_path, model)\n",
    "print(probs)\n",
    "print(classes)\n",
    "> [ 0.01558163  0.01541934  0.01452626  0.01443549  0.01407339]\n",
    "> ['70', '3', '45', '62', '55']\n",
    "```\n",
    "\n",
    "First you'll need to handle processing the input image such that it can be used in your network. \n",
    "\n",
    "## Image Preprocessing\n",
    "\n",
    "You'll want to use `PIL` to load the image ([documentation](https://pillow.readthedocs.io/en/latest/reference/Image.html)). It's best to write a function that preprocesses the image so it can be used as input for the model. This function should process the images in the same manner used for training. \n",
    "\n",
    "First, resize the images where the shortest side is 256 pixels, keeping the aspect ratio. This can be done with the [`thumbnail`](http://pillow.readthedocs.io/en/3.1.x/reference/Image.html#PIL.Image.Image.thumbnail) or [`resize`](http://pillow.readthedocs.io/en/3.1.x/reference/Image.html#PIL.Image.Image.thumbnail) methods. Then you'll need to crop out the center 224x224 portion of the image.\n",
    "\n",
    "Color channels of images are typically encoded as integers 0-255, but the model expected floats 0-1. You'll need to convert the values. It's easiest with a Numpy array, which you can get from a PIL image like so `np_image = np.array(pil_image)`.\n",
    "\n",
    "As before, the network expects the images to be normalized in a specific way. For the means, it's `[0.485, 0.456, 0.406]` and for the standard deviations `[0.229, 0.224, 0.225]`. You'll want to subtract the means from each color channel, then divide by the standard deviation. \n",
    "\n",
    "And finally, PyTorch expects the color channel to be the first dimension but it's the third dimension in the PIL image and Numpy array. You can reorder dimensions using [`ndarray.transpose`](https://docs.scipy.org/doc/numpy-1.13.0/reference/generated/numpy.ndarray.transpose.html). The color channel needs to be first and retain the order of the other two dimensions."
   ],
   "metadata": {}
  },
  {
   "cell_type": "code",
   "execution_count": null,
   "source": [
    "# Test out your network!\r\n",
    "\r\n",
    "model.eval()\r\n",
    "\r\n",
    "dataiter = iter(testloaders)\r\n",
    "images, labels = dataiter.next()\r\n",
    "img = images[0]\r\n",
    "print(img.shape)\r\n",
    "# Convert 2D image to 1D vector\r\n",
    "img = img.view(1,25088)\r\n",
    "\r\n",
    "# Calculate the class probabilities (softmax) for img\r\n",
    "with torch.no_grad():\r\n",
    "    output = model.forward(img)\r\n",
    "\r\n",
    "ps = torch.exp(output)\r\n",
    "\r\n",
    "fig, (ax1, ax2) = plt.subplots(figsize=(6,9), ncols=2)\r\n",
    "ax1.imshow(img.resize_(1, 28, 28).numpy().squeeze())\r\n",
    "ax1.axis('off')\r\n",
    "ax2.barh(np.arange(10), ps.data.numpy().squeeze())\r\n",
    "ax2.set_aspect(0.1)\r\n",
    "ax2.set_yticks(np.arange(10))\r\n",
    "ax2.set_title('Class Probability')\r\n",
    "ax2.set_xlim(0, 1.1)\r\n",
    "\r\n",
    "plt.tight_layout()"
   ],
   "outputs": [],
   "metadata": {}
  },
  {
   "cell_type": "code",
   "execution_count": null,
   "source": [
    "from PIL import Image\r\n",
    "import numpy as np\r\n",
    "from torch.autograd import Variable\r\n",
    "fig, ax = plt.subplots(1, 2, figsize=(10, 5))\r\n",
    "img = Image.open(\"./assets/inference_example.png\")\r\n"
   ],
   "outputs": [],
   "metadata": {}
  },
  {
   "cell_type": "markdown",
   "source": [
    "To check your work, the function below converts a PyTorch tensor and displays it in the notebook. If your `process_image` function works, running the output through this function should return the original image (except for the cropped out portions)."
   ],
   "metadata": {}
  },
  {
   "cell_type": "code",
   "execution_count": null,
   "source": [
    "def imshow(image, ax=None, title=None):\r\n",
    "    \"\"\"Imshow for Tensor.\"\"\"\r\n",
    "    if ax is None:\r\n",
    "        fig, ax = plt.subplots()\r\n",
    "    \r\n",
    "    # PyTorch tensors assume the color channel is the first dimension\r\n",
    "    # but matplotlib assumes is the third dimension\r\n",
    "    image = image.numpy().transpose((1, 2, 0))\r\n",
    "    \r\n",
    "    # Undo preprocessing\r\n",
    "    mean = np.array([0.485, 0.456, 0.406])\r\n",
    "    std = np.array([0.229, 0.224, 0.225])\r\n",
    "    image = std * image + mean\r\n",
    "    \r\n",
    "    # Image needs to be clipped between 0 and 1 or it looks like noise when displayed\r\n",
    "    image = np.clip(image, 0, 1)\r\n",
    "    \r\n",
    "    ax.imshow(image)\r\n",
    "    \r\n",
    "    return ax"
   ],
   "outputs": [],
   "metadata": {}
  },
  {
   "cell_type": "code",
   "execution_count": null,
   "source": [
    "imshow(np_image)"
   ],
   "outputs": [],
   "metadata": {}
  },
  {
   "cell_type": "markdown",
   "source": [
    "## Class Prediction\n",
    "\n",
    "Once you can get images in the correct format, it's time to write a function for making predictions with your model. A common practice is to predict the top 5 or so (usually called top-$K$) most probable classes. You'll want to calculate the class probabilities then find the $K$ largest values.\n",
    "\n",
    "To get the top $K$ largest values in a tensor use [`x.topk(k)`](http://pytorch.org/docs/master/torch.html#torch.topk). This method returns both the highest `k` probabilities and the indices of those probabilities corresponding to the classes. You need to convert from these indices to the actual class labels using `class_to_idx` which hopefully you added to the model or from an `ImageFolder` you used to load the data ([see here](#Save-the-checkpoint)). Make sure to invert the dictionary so you get a mapping from index to class as well.\n",
    "\n",
    "Again, this method should take a path to an image and a model checkpoint, then return the probabilities and classes.\n",
    "\n",
    "```python\n",
    "probs, classes = predict(image_path, model)\n",
    "print(probs)\n",
    "print(classes)\n",
    "> [ 0.01558163  0.01541934  0.01452626  0.01443549  0.01407339]\n",
    "> ['70', '3', '45', '62', '55']\n",
    "```"
   ],
   "metadata": {}
  },
  {
   "cell_type": "code",
   "execution_count": null,
   "source": [
    "def predict(image_path, model, topk=5):\n",
    "    ''' Predict the class (or classes) of an image using a trained deep learning model.\n",
    "    '''\n",
    "    \n",
    "    # TODO: Implement the code to predict the class from an image file\n",
    "    img = Image.open(image_path)\n",
    "#     top_p, top_class = topk(1, dim=1)\n",
    "    # Look at the most likely classes for the first 10 examples\n",
    "    print(top_class[:5,:])\n",
    "    model.eval()\n",
    "    \n",
    "    # Generate prediction\n",
    "    prediction = model(img)\n",
    "    \n",
    "    # Predicted class value using argmax\n",
    "    predicted_class = np.argmax(prediction)\n",
    "    \n",
    "    # Reshape image\n",
    "    image = img.reshape(28, 28, 1)\n",
    "    \n",
    "    # Show result\n",
    "    plt.imshow(image, cmap='gray')\n",
    "    \n",
    "# predict(\"./assets/inference_example.png\", model)"
   ],
   "outputs": [],
   "metadata": {}
  },
  {
   "cell_type": "markdown",
   "source": [
    "## Sanity Checking\n",
    "\n",
    "Now that you can use a trained model for predictions, check to make sure it makes sense. Even if the testing accuracy is high, it's always good to check that there aren't obvious bugs. Use `matplotlib` to plot the probabilities for the top 5 classes as a bar graph, along with the input image. It should look like this:\n",
    "\n",
    "<img src='assets/inference_example.png' width=300px>\n",
    "\n",
    "You can convert from the class integer encoding to actual flower names with the `cat_to_name.json` file (should have been loaded earlier in the notebook). To show a PyTorch tensor as an image, use the `imshow` function defined above."
   ],
   "metadata": {}
  },
  {
   "cell_type": "code",
   "execution_count": null,
   "source": [
    "# TODO: Display an image along with the top 5 classes"
   ],
   "outputs": [],
   "metadata": {}
  },
  {
   "cell_type": "code",
   "execution_count": null,
   "source": [],
   "outputs": [],
   "metadata": {}
  },
  {
   "cell_type": "markdown",
   "source": [
    "<font color='red'>**Reminder for Workspace users:** If your network becomes very large when saved as a checkpoint, there might be issues with saving backups in your workspace. You should reduce the size of your hidden layers and train again. \n",
    "    \n",
    "We strongly encourage you to delete these large interim files and directories before navigating to another page or closing the browser tab.</font>"
   ],
   "metadata": {}
  },
  {
   "cell_type": "code",
   "execution_count": 32,
   "source": [
    "# TODO remove .pth files or move it to a temporary `~/opt` directory in this Workspace\n",
    "!mv customcheckpoint.pth /opt/"
   ],
   "outputs": [],
   "metadata": {}
  },
  {
   "cell_type": "code",
   "execution_count": null,
   "source": [],
   "outputs": [],
   "metadata": {}
  }
 ],
 "metadata": {
  "kernelspec": {
   "display_name": "Python 3",
   "language": "python",
   "name": "python3"
  },
  "language_info": {
   "codemirror_mode": {
    "name": "ipython",
    "version": 3
   },
   "file_extension": ".py",
   "mimetype": "text/x-python",
   "name": "python",
   "nbconvert_exporter": "python",
   "pygments_lexer": "ipython3",
   "version": "3.6.3"
  }
 },
 "nbformat": 4,
 "nbformat_minor": 2
}